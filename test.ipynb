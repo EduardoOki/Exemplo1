{
 "cells": [
  {
   "cell_type": "code",
   "execution_count": 2,
   "id": "992a6d57-4d93-4b87-994f-8690021dccd9",
   "metadata": {},
   "outputs": [
    {
     "name": "stdout",
     "output_type": "stream",
     "text": [
      "olá mundo\n",
      "leaders no gold\n"
     ]
    }
   ],
   "source": [
    "print('olá mundo')\n",
    "print('leaders no gold')"
   ]
  },
  {
   "cell_type": "code",
   "execution_count": 4,
   "id": "57ddca9d-14ce-4c9f-927c-471807a8ebb8",
   "metadata": {},
   "outputs": [],
   "source": [
    "a = 10\n",
    "b = 15"
   ]
  },
  {
   "cell_type": "code",
   "execution_count": 6,
   "id": "68933636-9a13-4950-b8a4-f7dc3e9fc025",
   "metadata": {},
   "outputs": [
    {
     "data": {
      "text/plain": [
       "25"
      ]
     },
     "execution_count": 6,
     "metadata": {},
     "output_type": "execute_result"
    }
   ],
   "source": [
    "a+b"
   ]
  },
  {
   "cell_type": "code",
   "execution_count": 8,
   "id": "1b0532bb-4b3a-4de8-b14c-a5fb40269c4f",
   "metadata": {},
   "outputs": [
    {
     "data": {
      "text/plain": [
       "-5"
      ]
     },
     "execution_count": 8,
     "metadata": {},
     "output_type": "execute_result"
    }
   ],
   "source": [
    "a-b"
   ]
  },
  {
   "cell_type": "code",
   "execution_count": 10,
   "id": "ae4962db-85e9-4de9-915c-111dc2ccf772",
   "metadata": {},
   "outputs": [
    {
     "data": {
      "text/plain": [
       "150"
      ]
     },
     "execution_count": 10,
     "metadata": {},
     "output_type": "execute_result"
    }
   ],
   "source": [
    "a*b"
   ]
  },
  {
   "cell_type": "code",
   "execution_count": 12,
   "id": "4109c170-15f0-4c0d-8851-7656c80bf5c1",
   "metadata": {},
   "outputs": [
    {
     "data": {
      "text/plain": [
       "0.6666666666666666"
      ]
     },
     "execution_count": 12,
     "metadata": {},
     "output_type": "execute_result"
    }
   ],
   "source": [
    "a/b"
   ]
  },
  {
   "cell_type": "code",
   "execution_count": 13,
   "id": "ca0ae770-a58f-4bdb-b3f4-6aadb77d3c27",
   "metadata": {},
   "outputs": [
    {
     "data": {
      "text/plain": [
       "10"
      ]
     },
     "execution_count": 13,
     "metadata": {},
     "output_type": "execute_result"
    }
   ],
   "source": [
    "a%b"
   ]
  },
  {
   "cell_type": "code",
   "execution_count": 14,
   "id": "c0841c8e-ce1f-4d29-a4b9-15d4f7a72cfc",
   "metadata": {},
   "outputs": [
    {
     "data": {
      "text/plain": [
       "5"
      ]
     },
     "execution_count": 14,
     "metadata": {},
     "output_type": "execute_result"
    }
   ],
   "source": [
    "b%a"
   ]
  },
  {
   "cell_type": "code",
   "execution_count": 15,
   "id": "2e0c988d-ed00-4929-8ab0-6918078cf092",
   "metadata": {},
   "outputs": [
    {
     "data": {
      "text/plain": [
       "1"
      ]
     },
     "execution_count": 15,
     "metadata": {},
     "output_type": "execute_result"
    }
   ],
   "source": [
    "b//a"
   ]
  },
  {
   "cell_type": "code",
   "execution_count": 16,
   "id": "55d786e6-eb49-4ea7-b240-9888651e2774",
   "metadata": {},
   "outputs": [],
   "source": [
    "a = 50"
   ]
  },
  {
   "cell_type": "code",
   "execution_count": 18,
   "id": "570b5692-4e3d-43d4-938f-0ec17af2df44",
   "metadata": {},
   "outputs": [
    {
     "data": {
      "text/plain": [
       "50"
      ]
     },
     "execution_count": 18,
     "metadata": {},
     "output_type": "execute_result"
    }
   ],
   "source": [
    "a"
   ]
  },
  {
   "cell_type": "code",
   "execution_count": 19,
   "id": "3dc50525-f335-45a9-99db-c2336d8a2844",
   "metadata": {},
   "outputs": [],
   "source": [
    "b = a"
   ]
  },
  {
   "cell_type": "code",
   "execution_count": 21,
   "id": "59070b1d-9b82-4024-b88f-0cde33188d01",
   "metadata": {},
   "outputs": [
    {
     "data": {
      "text/plain": [
       "50"
      ]
     },
     "execution_count": 21,
     "metadata": {},
     "output_type": "execute_result"
    }
   ],
   "source": [
    "b"
   ]
  },
  {
   "cell_type": "code",
   "execution_count": 60,
   "id": "91041e00-42f6-41fa-b2b1-87389647d536",
   "metadata": {},
   "outputs": [],
   "source": [
    "valor = 387\n"
   ]
  },
  {
   "cell_type": "code",
   "execution_count": 61,
   "id": "81bcb5ca-d793-4482-90bf-814ced322a97",
   "metadata": {},
   "outputs": [],
   "source": [
    "resultado1 = valor//100 \n",
    "valor = valor%100"
   ]
  },
  {
   "cell_type": "code",
   "execution_count": 62,
   "id": "166fc266-40c4-474b-9f1e-d58abdd1d9fa",
   "metadata": {},
   "outputs": [],
   "source": [
    "resultado2 = valor//50\n",
    "valor = valor%50"
   ]
  },
  {
   "cell_type": "code",
   "execution_count": 63,
   "id": "a0e185ce-7b33-4aae-9008-d87db80e77c4",
   "metadata": {},
   "outputs": [],
   "source": [
    "resultado3 = valor//20\n",
    "valor = valor%20 "
   ]
  },
  {
   "cell_type": "code",
   "execution_count": 64,
   "id": "24aaccbf-1543-4329-85a5-1f2c329527f6",
   "metadata": {},
   "outputs": [
    {
     "data": {
      "text/plain": [
       "17"
      ]
     },
     "execution_count": 64,
     "metadata": {},
     "output_type": "execute_result"
    }
   ],
   "source": [
    "valor"
   ]
  },
  {
   "cell_type": "code",
   "execution_count": 65,
   "id": "9be3b877-aa76-4d87-909b-3036cc880fc7",
   "metadata": {},
   "outputs": [
    {
     "data": {
      "text/plain": [
       "1"
      ]
     },
     "execution_count": 65,
     "metadata": {},
     "output_type": "execute_result"
    }
   ],
   "source": [
    "resultado3"
   ]
  },
  {
   "cell_type": "code",
   "execution_count": 39,
   "id": "36ac1639-9138-48d2-ba35-559a06b5970b",
   "metadata": {},
   "outputs": [
    {
     "data": {
      "text/plain": [
       "1"
      ]
     },
     "execution_count": 39,
     "metadata": {},
     "output_type": "execute_result"
    }
   ],
   "source": [
    "valor//20"
   ]
  },
  {
   "cell_type": "code",
   "execution_count": 66,
   "id": "3dbdf4e9-3c0e-4a4a-bcf8-81366370d5a0",
   "metadata": {},
   "outputs": [],
   "source": [
    "resultado4 = valor//10\n",
    "valor = valor%10"
   ]
  },
  {
   "cell_type": "code",
   "execution_count": 45,
   "id": "03e84f07-0b2c-4f6b-bf5b-a98c97d20a66",
   "metadata": {},
   "outputs": [
    {
     "data": {
      "text/plain": [
       "7"
      ]
     },
     "execution_count": 45,
     "metadata": {},
     "output_type": "execute_result"
    }
   ],
   "source": [
    "valor\n"
   ]
  },
  {
   "cell_type": "code",
   "execution_count": 67,
   "id": "5e839cd9-2977-41eb-b5cc-eb158b75df46",
   "metadata": {},
   "outputs": [],
   "source": [
    "resultado5 = valor//5\n",
    "valor = valor%5"
   ]
  },
  {
   "cell_type": "code",
   "execution_count": 47,
   "id": "b69e91c7-b570-4e41-afdd-b576e7c4a786",
   "metadata": {},
   "outputs": [
    {
     "data": {
      "text/plain": [
       "2"
      ]
     },
     "execution_count": 47,
     "metadata": {},
     "output_type": "execute_result"
    }
   ],
   "source": [
    "valor"
   ]
  },
  {
   "cell_type": "code",
   "execution_count": 48,
   "id": "7f19561b-ceb0-4590-8aba-2aaf382a386b",
   "metadata": {},
   "outputs": [],
   "source": [
    "resultado6 = valor//2\n",
    "valor = valor%2"
   ]
  },
  {
   "cell_type": "code",
   "execution_count": 49,
   "id": "9348b7fb-5647-4dc4-921e-f216a67d771b",
   "metadata": {},
   "outputs": [
    {
     "data": {
      "text/plain": [
       "0"
      ]
     },
     "execution_count": 49,
     "metadata": {},
     "output_type": "execute_result"
    }
   ],
   "source": [
    "valor"
   ]
  },
  {
   "cell_type": "code",
   "execution_count": 72,
   "id": "3c408b4a-e1af-42b8-890e-95db04266ee4",
   "metadata": {},
   "outputs": [
    {
     "name": "stdout",
     "output_type": "stream",
     "text": [
      "100: 3\n",
      "50: 1\n",
      "20: 1\n",
      "10: 1\n",
      "5: 1\n",
      "2: 1\n"
     ]
    }
   ],
   "source": [
    "print(f\"100: {resultado1}\\n50: {resultado2}\\n20: {resultado3}\\n10: {resultado4}\\n5: {resultado5}\\n2: {resultado6}\")"
   ]
  },
  {
   "cell_type": "code",
   "execution_count": 73,
   "id": "556dfe73-ba4e-49b8-947b-adfa42e1b4b7",
   "metadata": {},
   "outputs": [],
   "source": [
    "lista = [resultado1, resultado2, resultado3, resultado4, resultado5, resultado6]"
   ]
  },
  {
   "cell_type": "code",
   "execution_count": 79,
   "id": "e022dc85-035e-4d20-8526-d56a939cce5c",
   "metadata": {},
   "outputs": [
    {
     "data": {
      "text/plain": [
       "[3, 25, 1, 1, 1, 1, 1, 45]"
      ]
     },
     "execution_count": 79,
     "metadata": {},
     "output_type": "execute_result"
    }
   ],
   "source": [
    "lista"
   ]
  },
  {
   "cell_type": "code",
   "execution_count": 75,
   "id": "2e97cfaf-90a2-4f8f-8ad4-6138c3bb7f66",
   "metadata": {},
   "outputs": [
    {
     "data": {
      "text/plain": [
       "3"
      ]
     },
     "execution_count": 75,
     "metadata": {},
     "output_type": "execute_result"
    }
   ],
   "source": [
    "lista[0]"
   ]
  },
  {
   "cell_type": "code",
   "execution_count": 76,
   "id": "3272328f-4a87-4ae7-bd73-ec8853ffeb53",
   "metadata": {},
   "outputs": [],
   "source": [
    "lista.append(45)"
   ]
  },
  {
   "cell_type": "code",
   "execution_count": 78,
   "id": "1ba73488-cd96-4bd2-b31a-fa899f15e6e6",
   "metadata": {},
   "outputs": [],
   "source": [
    "lista.insert(1,25)"
   ]
  },
  {
   "cell_type": "code",
   "execution_count": null,
   "id": "53887bcc-4ad4-410e-b1bf-cae804bfa2e5",
   "metadata": {},
   "outputs": [],
   "source": []
  }
 ],
 "metadata": {
  "kernelspec": {
   "display_name": "Python 3 (ipykernel)",
   "language": "python",
   "name": "python3"
  },
  "language_info": {
   "codemirror_mode": {
    "name": "ipython",
    "version": 3
   },
   "file_extension": ".py",
   "mimetype": "text/x-python",
   "name": "python",
   "nbconvert_exporter": "python",
   "pygments_lexer": "ipython3",
   "version": "3.10.1"
  }
 },
 "nbformat": 4,
 "nbformat_minor": 5
}
