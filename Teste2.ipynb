{
 "cells": [
  {
   "cell_type": "code",
   "execution_count": 12,
   "id": "7a60064c-e47f-4fec-ad7e-adea7881e0b5",
   "metadata": {},
   "outputs": [
    {
     "name": "stdout",
     "output_type": "stream",
     "text": [
      "Requirement already satisfied: pyautogui in c:\\users\\user\\appdata\\local\\programs\\python\\python310\\lib\\site-packages (0.9.53)\n"
     ]
    },
    {
     "name": "stderr",
     "output_type": "stream",
     "text": [
      "ERROR: Could not find a version that satisfies the requirement as (from versions: none)\n",
      "ERROR: No matching distribution found for as\n",
      "WARNING: You are using pip version 21.2.4; however, version 21.3.1 is available.\n",
      "You should consider upgrading via the 'C:\\Users\\User\\AppData\\Local\\Programs\\Python\\Python310\\python.exe -m pip install --upgrade pip' command.\n"
     ]
    },
    {
     "name": "stdout",
     "output_type": "stream",
     "text": [
      "Requirement already satisfied: pyperclip in c:\\users\\user\\appdata\\local\\programs\\python\\python310\\lib\\site-packages (1.8.2)\n"
     ]
    },
    {
     "name": "stderr",
     "output_type": "stream",
     "text": [
      "ERROR: Could not find a version that satisfies the requirement as (from versions: none)\n",
      "ERROR: No matching distribution found for as\n",
      "WARNING: You are using pip version 21.2.4; however, version 21.3.1 is available.\n",
      "You should consider upgrading via the 'C:\\Users\\User\\AppData\\Local\\Programs\\Python\\Python310\\python.exe -m pip install --upgrade pip' command.\n"
     ]
    }
   ],
   "source": [
    "!pip install pyautogui \n",
    "\n",
    "!pip install pyperclip "
   ]
  },
  {
   "cell_type": "code",
   "execution_count": 18,
   "id": "45ba9ca8-56b5-4848-bcd4-1fd6cc38c274",
   "metadata": {},
   "outputs": [],
   "source": [
    "import pyautogui as pyauto\n",
    "import pyperclip as pyper"
   ]
  },
  {
   "cell_type": "code",
   "execution_count": 31,
   "id": "de0396df-436d-48eb-a0d1-f0dce3f0ab95",
   "metadata": {},
   "outputs": [],
   "source": [
    "pyauto.PAUSE = 1\n"
   ]
  },
  {
   "cell_type": "code",
   "execution_count": 38,
   "id": "829fb2f7-0fcb-4ffe-a184-04e4d5d268d6",
   "metadata": {},
   "outputs": [],
   "source": [
    "import time\n"
   ]
  },
  {
   "cell_type": "code",
   "execution_count": null,
   "id": "d40d8d86-bc8d-4373-a407-ce79815c605c",
   "metadata": {},
   "outputs": [],
   "source": [
    "pyauto()"
   ]
  }
 ],
 "metadata": {
  "kernelspec": {
   "display_name": "Python 3 (ipykernel)",
   "language": "python",
   "name": "python3"
  },
  "language_info": {
   "codemirror_mode": {
    "name": "ipython",
    "version": 3
   },
   "file_extension": ".py",
   "mimetype": "text/x-python",
   "name": "python",
   "nbconvert_exporter": "python",
   "pygments_lexer": "ipython3",
   "version": "3.10.1"
  }
 },
 "nbformat": 4,
 "nbformat_minor": 5
}
