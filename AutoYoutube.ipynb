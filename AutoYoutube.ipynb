{
 "cells": [
  {
   "cell_type": "code",
   "execution_count": 1,
   "id": "fa031140-996e-49e0-b10d-782bfd1875f3",
   "metadata": {},
   "outputs": [],
   "source": [
    "import pyautogui as pyauto\n",
    "import pyperclip as pyper\n",
    "import time"
   ]
  },
  {
   "cell_type": "code",
   "execution_count": 2,
   "id": "d73d2cbe-6480-4301-ad63-e26476e282a4",
   "metadata": {},
   "outputs": [],
   "source": [
    "pyauto.PAUSE = 1"
   ]
  },
  {
   "cell_type": "code",
   "execution_count": 4,
   "id": "1d4194e7-4da5-4a3a-8fbe-c7abe299aadc",
   "metadata": {},
   "outputs": [],
   "source": [
    "pyauto.press(\"win\")\n",
    "pyauto.write(\"chrome\")\n",
    "pyauto.press(\"enter\")\n",
    "pyauto.write(\"y\")\n",
    "pyauto.press(\"enter\")\n",
    "pyauto.click(x=679, y=93)\n",
    "pyauto.write(\"never gonna give you up\")\n",
    "pyauto.press(\"enter\")\n",
    "time.sleep(4)\n",
    "pyauto.click(x=642, y=286)\n"
   ]
  },
  {
   "cell_type": "code",
   "execution_count": 18,
   "id": "f3d64e02-1c31-4dd9-84d0-fc8ce52adbf0",
   "metadata": {},
   "outputs": [
    {
     "data": {
      "text/plain": [
       "Point(x=642, y=286)"
      ]
     },
     "execution_count": 18,
     "metadata": {},
     "output_type": "execute_result"
    }
   ],
   "source": [
    "time.sleep(5)\n",
    "pyauto.position()"
   ]
  },
  {
   "cell_type": "code",
   "execution_count": null,
   "id": "a4bc089b-d876-40a6-95d9-9449605e339b",
   "metadata": {},
   "outputs": [],
   "source": []
  }
 ],
 "metadata": {
  "kernelspec": {
   "display_name": "Python 3 (ipykernel)",
   "language": "python",
   "name": "python3"
  },
  "language_info": {
   "codemirror_mode": {
    "name": "ipython",
    "version": 3
   },
   "file_extension": ".py",
   "mimetype": "text/x-python",
   "name": "python",
   "nbconvert_exporter": "python",
   "pygments_lexer": "ipython3",
   "version": "3.10.1"
  }
 },
 "nbformat": 4,
 "nbformat_minor": 5
}
