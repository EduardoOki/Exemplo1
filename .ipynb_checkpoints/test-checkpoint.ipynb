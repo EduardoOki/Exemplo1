{
 "cells": [
  {
   "cell_type": "code",
   "execution_count": 2,
   "id": "992a6d57-4d93-4b87-994f-8690021dccd9",
   "metadata": {},
   "outputs": [
    {
     "name": "stdout",
     "output_type": "stream",
     "text": [
      "olá mundo\n",
      "leaders no gold\n"
     ]
    }
   ],
   "source": [
    "print('olá mundo')\n",
    "print('leaders no gold')"
   ]
  },
  {
   "cell_type": "code",
   "execution_count": null,
   "id": "57ddca9d-14ce-4c9f-927c-471807a8ebb8",
   "metadata": {},
   "outputs": [],
   "source": []
  }
 ],
 "metadata": {
  "kernelspec": {
   "display_name": "Python 3 (ipykernel)",
   "language": "python",
   "name": "python3"
  },
  "language_info": {
   "codemirror_mode": {
    "name": "ipython",
    "version": 3
   },
   "file_extension": ".py",
   "mimetype": "text/x-python",
   "name": "python",
   "nbconvert_exporter": "python",
   "pygments_lexer": "ipython3",
   "version": "3.10.1"
  }
 },
 "nbformat": 4,
 "nbformat_minor": 5
}
